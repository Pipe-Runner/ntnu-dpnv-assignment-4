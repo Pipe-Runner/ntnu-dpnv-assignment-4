{
 "cells": [
  {
   "cell_type": "markdown",
   "metadata": {},
   "source": [
    "# Assignment 4 - Digital signal processing and analysis"
   ]
  },
  {
   "cell_type": "markdown",
   "metadata": {},
   "source": [
    "Course \"Data processing and Visualization\", IE500417, NTNU.\n",
    "\n",
    "https://www.ntnu.edu/studies/courses/IE500417"
   ]
  },
  {
   "cell_type": "markdown",
   "metadata": {},
   "source": [
    "**Note (as usual): plagiarism is strictly forbidden! You should never copy any source code from other students. If you use any code written by others (except the standards libraries: NumPy, SciPy, Pandas, etc), provide a reference.**\n",
    "\n",
    "**If the teachers see that your work is mostly copy+paste from online code snippets, the grade can be reduced.**\n",
    "\n",
    "**If a case of plagiarism is detected, it will be reported to the administration.**"
   ]
  },
  {
   "cell_type": "markdown",
   "metadata": {},
   "source": [
    "## Task description"
   ]
  },
  {
   "cell_type": "markdown",
   "metadata": {},
   "source": [
    "In this assignment, you will practice digital signal processing (in a rather basic form, there will be no advanced DSP methods). You will work with two signals\n",
    "simultaneously. As it sometimes happens, the two signals are not synchronized: they are sampled at\n",
    "different time moments and with different sampling rate. You will have to resample and synchronize\n",
    "them so that both signals have the same sample timestamps. You will do some analysis of the signals\n",
    "and visualize them using line charts."
   ]
  },
  {
   "cell_type": "markdown",
   "metadata": {},
   "source": [
    "## Submission details (as usual)"
   ]
  },
  {
   "cell_type": "markdown",
   "metadata": {},
   "source": [
    "The assignment must be handed in on Blackboard. The following must be handed in:\n",
    "1. Report in PDF or HTML format describing the results of this assignment. Preferably, it is generated from the Jupyter notebook you used (Hint: In Jupyter: File > Download as > HTML). Alternatively (if you use plain Python or other tools), prepare a readable report that contains figures and source code snippets necessary to understand your work.\n",
    "2. Source code that you used to generate the results. This could be the the Jupyter notebook file, python source files, Matlab files, etc.\n",
    "\n",
    "Deadlines and grading information on Blackboard."
   ]
  },
  {
   "cell_type": "markdown",
   "metadata": {},
   "source": [
    "## Part 1: Understanding the signals (25%)"
   ]
  },
  {
   "cell_type": "markdown",
   "metadata": {},
   "source": [
    "**Step 1.1: Load the two signals from CSV files: s1.csv and s2.csv.**"
   ]
  },
  {
   "cell_type": "code",
   "execution_count": 1,
   "metadata": {},
   "outputs": [],
   "source": [
    "# Your code here"
   ]
  },
  {
   "cell_type": "markdown",
   "metadata": {},
   "source": [
    "**Step 1.2: Do a quick analysis of what data you got: column names of each signal and number of rows.**"
   ]
  },
  {
   "cell_type": "code",
   "execution_count": 2,
   "metadata": {},
   "outputs": [],
   "source": [
    "# Your code here"
   ]
  },
  {
   "cell_type": "markdown",
   "metadata": {},
   "source": [
    "**Step 1.3: One of the signals is sampled at even frequency, another is not. Find out which is the nonuniformly\n",
    "sampled signal. Store it in variable `signal_x`. Store the the uniformly sampled signal in variable `signal_u`.**\n",
    "\n",
    "Note: \"find out\" here means **\"write code that finds out\"**. If you will manually assign the `signal_u` and `signal_x` variables, you won't get points for this step. The reason - manual assignment is not flexible. If the dataset changes, your remaining notebook calculations will be wrong suddenly. Flexible code that finds the necessary signals would work even if we would swap the s1.csv and s2.csv files."
   ]
  },
  {
   "cell_type": "code",
   "execution_count": 3,
   "metadata": {},
   "outputs": [],
   "source": [
    "# Your code here\n",
    "signal_x = ...\n",
    "signal_u = ..."
   ]
  },
  {
   "cell_type": "markdown",
   "metadata": {},
   "source": [
    "**Step 1.4. Plot the two signals in a line chart:**\n",
    "\n",
    "* Both lines in a single chart\n",
    "* Add a legend with label for each signal\n",
    "* Signal U should be Green dashed line with line width=2\n",
    "* Signal X should be Blue solid line with line width=1.\n",
    "* Chart should have a title, font size = 20"
   ]
  },
  {
   "cell_type": "markdown",
   "metadata": {},
   "source": [
    "A reference showing approximately how it could look:"
   ]
  },
  {
   "cell_type": "markdown",
   "metadata": {},
   "source": [
    "<img src=\"./docs/ref1.png\">"
   ]
  },
  {
   "cell_type": "code",
   "execution_count": 4,
   "metadata": {},
   "outputs": [],
   "source": [
    "# Your code here"
   ]
  },
  {
   "cell_type": "markdown",
   "metadata": {},
   "source": [
    "**Step 1.5: Find out the sampling frequency of Signal U, save it in variable `f_u`.**"
   ]
  },
  {
   "cell_type": "code",
   "execution_count": 5,
   "metadata": {},
   "outputs": [],
   "source": [
    "# Your code here\n",
    "f_u = ..."
   ]
  },
  {
   "cell_type": "markdown",
   "metadata": {},
   "source": [
    "**Step 1.6: Find out which are the highest frequencies used in Signal U. Save the highest frequency in variable `b_u`, having Hz as units.**\n",
    "\n",
    "Hint: use Fourier transform, and find max frequency having a significant amplitude. There may be many frequencies with tiny amplitudes. Use some threshold to filter these out."
   ]
  },
  {
   "cell_type": "code",
   "execution_count": 6,
   "metadata": {},
   "outputs": [],
   "source": [
    "# Your code here\n",
    "b_u = ..."
   ]
  },
  {
   "cell_type": "markdown",
   "metadata": {},
   "source": [
    "**Step 1.7: Find out the minimum frequency at which Signal U should have been sampled to still contain all the information in the signal. Save it in variable `fs_u`.**\n",
    "\n",
    "Hint: Nyquist-Shannon theorem"
   ]
  },
  {
   "cell_type": "code",
   "execution_count": 7,
   "metadata": {},
   "outputs": [],
   "source": [
    "# Your code here\n",
    "fs_u = ..."
   ]
  },
  {
   "cell_type": "markdown",
   "metadata": {},
   "source": [
    "**Step 1.8: Calculate, how many % of space is wasted by storing too many samples for Signal U. I.e., if we would resample in the Signal U at a sampling rate `fs_u`, how many samples would we store, and how much that is in relation to the number of samples in the CSV file?**\n",
    "\n",
    "**If it is 0, why?**\n",
    "\n",
    "P.S. Don't worry about Signal X – the sampling system for it was designed by careless engineers who did not know about Nyquist-Shannon's sampling theorem. Therefore, the sampling of Signal X is not proper. But we work with what we have."
   ]
  },
  {
   "cell_type": "code",
   "execution_count": 8,
   "metadata": {},
   "outputs": [],
   "source": [
    "# Your code here"
   ]
  },
  {
   "cell_type": "markdown",
   "metadata": {},
   "source": [
    "## Part 2: Synchronizing the signals – resampling (25%)"
   ]
  },
  {
   "cell_type": "markdown",
   "metadata": {},
   "source": [
    "Note: whenever you modify something for the signals, it is suggested to store the modifierd signal in another variable. Keep the original one intact. You may later want to compare the two. "
   ]
  },
  {
   "cell_type": "markdown",
   "metadata": {},
   "source": [
    "**Step 2.1: Decimate (down-sample) the Signal U to 10Hz, store it in variable `su_resampled`:**"
   ]
  },
  {
   "cell_type": "code",
   "execution_count": 9,
   "metadata": {},
   "outputs": [],
   "source": [
    "# Your code here\n",
    "su_resampled = ..."
   ]
  },
  {
   "cell_type": "markdown",
   "metadata": {},
   "source": [
    "**Step 2.2: Explain - why is the resampled signal not containing the same information as the original signal (i.e., what information is lost?)**"
   ]
  },
  {
   "cell_type": "markdown",
   "metadata": {},
   "source": [
    "**--- YOUR ANSWER HERE ---**"
   ]
  },
  {
   "cell_type": "markdown",
   "metadata": {},
   "source": [
    "From now on, in all the places whare you need to do something with Signal U, **use the resampled version: `su_resampled`.**"
   ]
  },
  {
   "cell_type": "markdown",
   "metadata": {},
   "source": [
    "**Step 2.3: Synchronize Signal X with Signal U, store it in variable `sx_resampled`. I.e., if `su_resampled` is sampled at time moments t0, t1, …, tN, then resample Signal X at the same time moments: t0, t1, …, tN. This may involve several steps, \n",
    "depending on what functions/libraries you use.**\n",
    "\n",
    "Hint: see `07-2-Resampling.ipynb` example notebook on Blackboard ().\n",
    "\n",
    "Hint: your resulting `sx_resampled` should be 10Hz signal, not 100Hz."
   ]
  },
  {
   "cell_type": "code",
   "execution_count": 10,
   "metadata": {},
   "outputs": [],
   "source": [
    "# Your code here\n",
    "sx_resampled = ..."
   ]
  },
  {
   "cell_type": "markdown",
   "metadata": {},
   "source": [
    "**Step 2.4: Check if the two signals really are synchronized – compare the timestamps, these should be\n",
    "equal.**"
   ]
  },
  {
   "cell_type": "code",
   "execution_count": 11,
   "metadata": {},
   "outputs": [],
   "source": [
    "# Your code here"
   ]
  },
  {
   "cell_type": "markdown",
   "metadata": {},
   "source": [
    "**Step 2.5: Take both signals and insert them into a single DataFrame object (name it `composed_data`) which has:**\n",
    "* Timestamps as the index column\n",
    "* Two columns named `signalX` and `signalU` containing the corresponding values (`sx_resampled` and `su_resampled`)."
   ]
  },
  {
   "cell_type": "code",
   "execution_count": 12,
   "metadata": {},
   "outputs": [],
   "source": [
    "# Your code here\n",
    "composed_data = ..."
   ]
  },
  {
   "cell_type": "markdown",
   "metadata": {},
   "source": [
    "## Part 3: Find extreme values (20%)"
   ]
  },
  {
   "cell_type": "markdown",
   "metadata": {},
   "source": [
    "In this part you will find extreme values in the signals. Typically, these could mean outliers, sampling errors or extreme modes of operation in the system (such as overheating of a motor).\n",
    "\n",
    "**Step 3.1: Find Signal U values (`su_resampled`) above 170.0. Store those in variable `extreme_u_vals`.**"
   ]
  },
  {
   "cell_type": "code",
   "execution_count": 13,
   "metadata": {},
   "outputs": [],
   "source": [
    "# Your code here\n",
    "extreme_u_vals = ..."
   ]
  },
  {
   "cell_type": "markdown",
   "metadata": {},
   "source": [
    "**Step 3.2: Find Signal X values (`sx_resampled`) outside the range mean ± 2* StdDev. Store those in variable `ex_static_x_vals`.**"
   ]
  },
  {
   "cell_type": "code",
   "execution_count": 14,
   "metadata": {},
   "outputs": [],
   "source": [
    "# Your code here\n",
    "ex_static_x_vals = ..."
   ]
  },
  {
   "cell_type": "markdown",
   "metadata": {},
   "source": [
    "**Step 3.3: Find Signal X values (`sx_resampled`) outside an adaptive range: 3-second moving average ± 2 * StdDev. Both the average and StdDev are calculated in a 3-second rolling window. Store the values in variable `ex_dynamic_x_vals`.**"
   ]
  },
  {
   "cell_type": "code",
   "execution_count": 15,
   "metadata": {},
   "outputs": [],
   "source": [
    "# Your code here\n",
    "ex_dynamic_x_vals = ..."
   ]
  },
  {
   "cell_type": "markdown",
   "metadata": {},
   "source": [
    "## Part 4: Extra challenges (30%)"
   ]
  },
  {
   "cell_type": "markdown",
   "metadata": {},
   "source": [
    "**Step 4.1: Plot a line chart with values, rolling mean, *normal boundaries* (mean +/- 2StdDev) and the extreme values `ex_dynamic_x_vals` that you calculated in Part 3.** Example:"
   ]
  },
  {
   "cell_type": "markdown",
   "metadata": {},
   "source": [
    "<img src=\"files/ref3.png\">"
   ]
  },
  {
   "cell_type": "code",
   "execution_count": 16,
   "metadata": {},
   "outputs": [],
   "source": [
    "# Your code here"
   ]
  },
  {
   "cell_type": "markdown",
   "metadata": {},
   "source": [
    "**Step 4.2: Find segments in Signal X (`sx_resampled`) where the 10-second moving average value is increasing for a continuous period of at least two seconds.**"
   ]
  },
  {
   "cell_type": "code",
   "execution_count": 17,
   "metadata": {},
   "outputs": [],
   "source": [
    "# Your code here"
   ]
  },
  {
   "cell_type": "markdown",
   "metadata": {},
   "source": [
    "**Step 4.3: Plot a line chart and mark these regions (from previous step) in a different color.**\n",
    "\n",
    "For example: show the normal line in blue color and the continuously increasing moving average segments in green. Example:"
   ]
  },
  {
   "cell_type": "markdown",
   "metadata": {},
   "source": [
    "<img src=\"files/ref2.png\">"
   ]
  },
  {
   "cell_type": "code",
   "execution_count": 18,
   "metadata": {},
   "outputs": [],
   "source": [
    "# Your code here"
   ]
  },
  {
   "cell_type": "markdown",
   "metadata": {},
   "source": [
    "## Reflection "
   ]
  },
  {
   "cell_type": "markdown",
   "metadata": {},
   "source": [
    "Please reflect on the following questions:\n",
    "1. How did the assignment go? Was it easy or hard?\n",
    "2. How many hours did you spend on it?\n",
    "3. What was the most time-consuming part?\n",
    "4. If you need to do similar things later in your professional life, how can you improve? How can you do it more efficiently?\n",
    "5. Was tehre something you would expect to learn that this exercise did not include?\n",
    "6. Was there something that does not make sense?"
   ]
  },
  {
   "cell_type": "markdown",
   "metadata": {},
   "source": [
    "**--- YOUR ANSWERS HERE ---**"
   ]
  }
 ],
 "metadata": {
  "kernelspec": {
   "display_name": "Python 3 (ipykernel)",
   "language": "python",
   "name": "python3"
  },
  "language_info": {
   "codemirror_mode": {
    "name": "ipython",
    "version": 3
   },
   "file_extension": ".py",
   "mimetype": "text/x-python",
   "name": "python",
   "nbconvert_exporter": "python",
   "pygments_lexer": "ipython3",
   "version": "3.10.6"
  }
 },
 "nbformat": 4,
 "nbformat_minor": 4
}
